{
 "cells": [
  {
   "cell_type": "markdown",
   "metadata": {},
   "source": [
    "\n",
    "\n",
    "Here is the data exercise. As we discussed, please send it back to us by Monday. \n",
    "\n",
    "As part of your interview process, we would like you to complete the exercise described below where you analyze data and create a presentation.  We think this exercise should take you no more than 5-10 hours, but \n",
    " \n",
    "## Guidelines\n",
    "- Your presentation can be any format you choose: PowerPoint, PDF, etc.\n",
    "- We prefer that you use an open source tool like R or Python rather than a proprietary tool like SAS or Excel, but you can use whatever you like.\n",
    "- All of the information you need is in the exercise.  Just be able to explain any choices you may have made about how to approach the data.\n",
    "- Email your presentation and code to jayson.webb@oracle.com and ben.bendig@oracle.com when you are done.\n",
    "\n",
    "## Exercise\n",
    "\n",
    "**Goal**: Use the click history log to identify which combinations of Server and Domain have issues with clicks that take a long time (i.e. Big Clicks).\n",
    "\n",
    "File: clickLog.json\n",
    "\n",
    "Data glossary\n",
    "\n",
    "Click duration:\n",
    "chttt – Click time\n",
    "chrnt – Render time\n",
    "\n",
    "Click’s features:\n",
    "wlsServer - Server\n",
    "wlsDomain - Domain\n",
    " \n",
    "## Things to address in your report\n",
    "\n",
    "### Summary statistics about Click time and Render time\n",
    "\n",
    "### The relationship between Click time and Render time\n",
    "\n",
    "### Combinations of Server and Domain that have the biggest issues with clicks that take a long time (i.e. Big Clicks).\n",
    "\n",
    "### Any other insights you think are useful.\n",
    "\n"
   ]
  }
 ],
 "metadata": {
  "kernelspec": {
   "display_name": "Python 3",
   "language": "python",
   "name": "python3"
  },
  "language_info": {
   "codemirror_mode": {
    "name": "ipython",
    "version": 3
   },
   "file_extension": ".py",
   "mimetype": "text/x-python",
   "name": "python",
   "nbconvert_exporter": "python",
   "pygments_lexer": "ipython3",
   "version": "3.6.5"
  }
 },
 "nbformat": 4,
 "nbformat_minor": 2
}
