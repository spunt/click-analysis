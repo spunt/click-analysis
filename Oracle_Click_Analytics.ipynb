{
 "cells": [
  {
   "cell_type": "markdown",
   "metadata": {
    "slideshow": {
     "slide_type": "slide"
    }
   },
   "source": [
    "# Exercise in Click Log Analysis\n",
    "\n",
    "**Goal**: Identify which combinations of `Server` and `Domain` have issues with clicks that take a long time (i.e. `Big Clicks`)."
   ]
  },
  {
   "cell_type": "code",
   "execution_count": 15,
   "metadata": {
    "slideshow": {
     "slide_type": "skip"
    }
   },
   "outputs": [
    {
     "name": "stdout",
     "output_type": "stream",
     "text": [
      "\n",
      "FIGURE SAVED TO: plot_clicktime_upper5omitted.png\n",
      "|  index  |Click Time|Click Time (+)|Render Time|Render Time (+)|\n",
      "|---------|---------:|-------------:|----------:|--------------:|\n",
      "|**count**|   44741.0|       17602.0|    44741.0|        16207.0|\n",
      "|**mean** |    5214.5|       13255.7|    -1401.1|          108.7|\n",
      "|**std**  |  177407.0|      282657.6|   296696.6|          183.4|\n",
      "|**min**  |      -1.0|           1.0|-62734870.0|            2.0|\n",
      "|**25%**  |      -1.0|         511.0|       -1.0|           21.0|\n",
      "|**50%**  |       0.0|         764.0|       -1.0|           56.0|\n",
      "|**75%**  |     603.0|        1664.7|       27.0|          134.0|\n",
      "|**max**  |15553165.0|    15553165.0|     4143.0|         4143.0|\n",
      "\n"
     ]
    },
    {
     "data": {
      "text/plain": [
       "<Figure size 432x288 with 0 Axes>"
      ]
     },
     "metadata": {},
     "output_type": "display_data"
    }
   ],
   "source": [
    "%run supporting_functions.py\n",
    "set_sns()\n",
    "df, descriptives = load_data();\n",
    "clicktime = df['Click Time (+)'].dropna()\n",
    "rendtime = df['Render Time (+)'].dropna()\n",
    "percent_cutoff = 95\n",
    "ax = plot_hists(clicktime, percentile=percent_cutoff, normed=False, describe_inset=False, xlabel='Click Time')\n",
    "ax.spines['right'].set_visible(False); \n",
    "ax.spines['top'].set_visible(False); \n",
    "ax.figure.tight_layout();\n",
    "save_plot(figh=ax.figure, outname='plot_clicktime_upper5omitted.png');\n",
    "df2md(descriptives, ncol2bold=1);"
   ]
  },
  {
   "cell_type": "markdown",
   "metadata": {
    "slideshow": {
     "slide_type": "slide"
    }
   },
   "source": [
    "# Dataset Overview\n",
    "\n",
    "- most of the 44,741 records contained invalid (non-positive) values for both click (61%) and render (64%) times \n",
    "    + these times are excluded from the primary analysis (see final section for a closer look at this invalid times)\n",
    "- the table shows the *Mean*, *Standard Deviation (SD)*, *Minimum*,  *25th*, *50th*, and *75th* percentiles, and the *Maximum* for the click and render times both before (raw) and after (+) excluding non-positive values\n",
    "\n",
    "\n",
    "|   |Click Time (raw) |Click Time (+)|Render Time (raw)|Render Time (+)|\n",
    "|---------|---------:|-------------:|----------:|--------------:|\n",
    "|**N**|   44741 |       17602 |    44741 |        16207 |\n",
    "|**Mean** |    52145|       132557|    -14011|          1087|\n",
    "|**SD**  |  177407 |      2826576|   2966966|          1834|\n",
    "|**Min**  |      -1 |           1 |-62734870 |            2 |\n",
    "|**25%**  |      -1 |         511 |       -1 |           21 |\n",
    "|**50%**  |       0 |         764 |       -1 |           56 |\n",
    "|**75%**  |     603 |        16647|       27 |          134 |\n",
    "|**Max**  |15553165 |    15553165 |     4143 |         4143 |"
   ]
  },
  {
   "cell_type": "markdown",
   "metadata": {
    "slideshow": {
     "slide_type": "slide"
    }
   },
   "source": [
    "## Click time (+) distribution\n",
    "\n",
    "![](/plot_clicktime_upper5omitted.png)"
   ]
  },
  {
   "cell_type": "code",
   "execution_count": 3,
   "metadata": {
    "slideshow": {
     "slide_type": "skip"
    }
   },
   "outputs": [
    {
     "name": "stdout",
     "output_type": "stream",
     "text": [
      "\n",
      "FIGURE SAVED TO: plot_clickxrender.png\n"
     ]
    }
   ],
   "source": [
    "rho = df[['Click Time (+)', 'Render Time (+)']].corr(method='spearman')\n",
    "NUM_BINS = 12\n",
    "figh, (ax1, ax2) = plt.subplots(1, 2, figsize=(12, 6));\n",
    "sns.regplot(df['Render Time (+)'], df['Click Time (+)'], ax=ax1, fit_reg=False);\n",
    "ax1.set_title('rank correlation = {:.2f}'.format(rho.iloc[0,-1]));\n",
    "ax2.set_ylabel('Click Time'); ax2.set_xlabel('Render Time');\n",
    "sns.regplot(df['Render Time (+)'], df['Click Time (+)'], ax=ax2, x_bins=NUM_BINS, fit_reg=False);\n",
    "ax2.set_title('{:d} equally-sized bins'.format(NUM_BINS));\n",
    "ax2.set_ylabel('Mean Click Time'); ax2.set_xlabel('Render Time (Bin Mininum)');\n",
    "format_yticks(ax1); format_yticks(ax2); format_xticks(ax1);\n",
    "figh.tight_layout();\n",
    "save_plot(figh=figh, outname='plot_clickxrender.png');"
   ]
  },
  {
   "cell_type": "markdown",
   "metadata": {
    "slideshow": {
     "slide_type": "slide"
    }
   },
   "source": [
    "## The relationship between Click time and Render time\n",
    "\n",
    "- Left pane is a scatter plot of the raw, positive-valued Click and Render times, which showed a moderately positive rank-order correlation\n",
    "- Right pane plots the average Click times for 12 equally-sized Render time bins to better visualize this positive correlation\n",
    "\n",
    "![](/plot_clickxrender.png)"
   ]
  },
  {
   "cell_type": "markdown",
   "metadata": {
    "slideshow": {
     "slide_type": "slide"
    }
   },
   "source": [
    "## Combinations of Server and Domain that have the biggest issues with clicks that take a long time (i.e. Big Clicks)\n",
    "\n",
    "- table shows *Mean*, *Standard Deviation (SD)*, and *Maximum* for the 10 Server-Domain combos with the highest mean click times\n",
    "- the top 4 combos are distinguished by time distributions with big means and big variances\n",
    "\n",
    "|        Server        |    Domain     |*N* |Mean  |  SD  |  Max   |\n",
    "|----------------------|---------------|----:|----:|-----:|-------:|\n",
    "|**CoreProcesses**     |**HCM**        |  578|39113|460223| 8830183|\n",
    "|**FunctionalSetup**   |**Common**     | 4605|30598|468640|15553165|\n",
    "|**CRMCommon**         |**CRM**        |  320|23773|401079| 7175832|\n",
    "|**Payable**           |**Financial**  | 1401|17517|288432| 9326914|\n",
    "|**HelpPortal**        |**Common**     |   24|10977| 41673|  205250|\n",
    "|**SCMCommon**         |**SCM**        |   45| 4189| 13660|   71375|\n",
    "|**HomePage**          |**Common**     | 8709| 3792|108275| 9095226|\n",
    "|**Procurement**       |**Procurement**|   46| 3413| 11667|   79476|\n",
    "|**ContractManagement**|**CRM**        |    7| 3214|  3812|   11173|\n",
    "|**GeneralLedger**     |**Financial**  |  284| 2270|  7188|  116897|"
   ]
  },
  {
   "cell_type": "code",
   "execution_count": 18,
   "metadata": {
    "slideshow": {
     "slide_type": "skip"
    }
   },
   "outputs": [],
   "source": [
    "# df.dropna(subset=['Click Time (+)'], inplace=True)\n",
    "big_click_cutoffs = [4000, 8000, 12000]\n",
    "name = big_click_cutoffs.copy()\n",
    "for idx,c in enumerate(big_click_cutoffs):\n",
    "    name[idx] = '{:d}+ Clicks'.format(c)\n",
    "    df[name[idx]] = df['Click Time (+)'] >= c"
   ]
  },
  {
   "cell_type": "code",
   "execution_count": 19,
   "metadata": {
    "slideshow": {
     "slide_type": "skip"
    }
   },
   "outputs": [
    {
     "name": "stdout",
     "output_type": "stream",
     "text": [
      "|        Server        |    Domain     |Count|Mean |Median|  SD  |  Max   |\n",
      "|----------------------|---------------|----:|----:|-----:|-----:|-------:|\n",
      "|**CoreProcesses**     |**HCM**        |  578|39113|  1045|460223| 8830183|\n",
      "|**FunctionalSetup**   |**Common**     | 4605|30598|   993|468640|15553165|\n",
      "|**CRMCommon**         |**CRM**        |  320|23773|   574|401079| 7175832|\n",
      "|**Payable**           |**Financial**  | 1401|17517|   931|288432| 9326914|\n",
      "|**HelpPortal**        |**Common**     |   24|10977|   517| 41673|  205250|\n",
      "|**SCMCommon**         |**SCM**        |   45| 4189|   984| 13660|   71375|\n",
      "|**HomePage**          |**Common**     | 8709| 3792|   539|108275| 9095226|\n",
      "|**Procurement**       |**Procurement**|   46| 3413|   951| 11667|   79476|\n",
      "|**ContractManagement**|**CRM**        |    7| 3214|  1564|  3812|   11173|\n",
      "|**GeneralLedger**     |**Financial**  |  284| 2270|  1193|  7188|  116897|\n",
      "\n"
     ]
    }
   ],
   "source": [
    "pt = df.pivot_table(values='Click Time (+)', index=['Server', 'Domain'], dropna=True, margins=False, aggfunc=['count', 'mean', 'median', 'std', 'max'])\n",
    "pt.columns = ['Count', 'Mean', 'Median', 'SD', 'Max']\n",
    "pt = pt.sort_values(by='Mean', ascending=False).apply(lambda x: x.astype(int)).head(10)\n",
    "df2md(pt, ncol2bold=2)"
   ]
  },
  {
   "cell_type": "code",
   "execution_count": 24,
   "metadata": {
    "slideshow": {
     "slide_type": "skip"
    }
   },
   "outputs": [
    {
     "name": "stdout",
     "output_type": "stream",
     "text": [
      "|        Server        |    Domain     |4000+ Clicks|8000+ Clicks|12000+ Clicks|\n",
      "|----------------------|---------------|-----------:|-----------:|------------:|\n",
      "|**ContractManagement**|**CRM**        |       28.57|       14.29|         0.00|\n",
      "|**CoreProcesses**     |**HCM**        |       11.46|        7.05|         4.59|\n",
      "|**Procurement**       |**Procurement**|       10.87|        6.52|         2.17|\n",
      "|**SCMCommon**         |**SCM**        |        8.89|        6.67|         4.44|\n",
      "|**FunctionalSetup**   |**Common**     |        7.93|        2.85|         1.71|\n",
      "|**Payable**           |**Financial**  |        7.42|        2.33|         1.02|\n",
      "|**FinancialCommon**   |**Financial**  |        7.06|        3.45|         2.04|\n",
      "|**GeneralLedger**     |**Financial**  |        7.01|        1.11|         1.11|\n",
      "|**CoreSetup**         |**HCM**        |        6.81|        3.19|         2.23|\n",
      "|**HelpPortal**        |**Common**     |        5.00|        5.00|         5.00|\n",
      "\n"
     ]
    }
   ],
   "source": [
    "g = df.dropna().groupby(['Server', 'Domain'])[name]\n",
    "p = 100*(g.sum() / g.count()).dropna().sort_values(by=name[0], ascending=False).head(10)\n",
    "df2md(p, ncol2bold=2)"
   ]
  },
  {
   "cell_type": "markdown",
   "metadata": {
    "slideshow": {
     "slide_type": "slide"
    }
   },
   "source": [
    "# Other useful insights"
   ]
  },
  {
   "cell_type": "markdown",
   "metadata": {
    "slideshow": {
     "slide_type": "slide"
    }
   },
   "source": [
    "## Non-Positive Click Times: evenly distributed across Server-Domains combos?\n",
    "\n",
    "- counts of _Negative_, _Positive_, and _Zero_ values observed for the 10 Server-Domain combos with the highest number of negative values\n",
    "- the **HomePage-Common** combo has an exceptionally high frequency of non-positive values and deserves special attention\n",
    "\n",
    "|      Server       |    Domain     |*N*<br>Negative|*N*<br>Positive|*N*<br>Zero|\n",
    "|-------------------|---------------|--------------:|--------------:|----------:|\n",
    "|**HomePage**       |**Common**     |          13470|           8709|       4757|\n",
    "|**FunctionalSetup**|**Common**     |           4604|           4605|          1|\n",
    "|**Payable**        |**Financial**  |           1408|           1401|          8|\n",
    "|**CoreSetup**      |**HCM**        |            944|            942|          0|\n",
    "|**FinancialCommon**|**Financial**  |            644|            639|          0|\n",
    "|**CoreProcesses**  |**HCM**        |            585|            578|          7|\n",
    "|**CRMCommon**      |**CRM**        |            325|            320|          5|\n",
    "|**GeneralLedger**  |**Financial**  |            253|            284|          2|\n",
    "|**Procurement**    |**Procurement**|             46|             46|          0|\n",
    "|**SCMCommon**      |**SCM**        |             45|             45|          0|"
   ]
  },
  {
   "cell_type": "code",
   "execution_count": 26,
   "metadata": {
    "slideshow": {
     "slide_type": "skip"
    }
   },
   "outputs": [
    {
     "name": "stdout",
     "output_type": "stream",
     "text": [
      "|      Server       |    Domain     |*N*<br>Negative|*N*<br>Positive|*N*<br>Zero|\n",
      "|-------------------|---------------|--------------:|--------------:|----------:|\n",
      "|**HomePage**       |**Common**     |          13470|           8709|       4757|\n",
      "|**FunctionalSetup**|**Common**     |           4604|           4605|          1|\n",
      "|**Payable**        |**Financial**  |           1408|           1401|          8|\n",
      "|**CoreSetup**      |**HCM**        |            944|            942|          0|\n",
      "|**FinancialCommon**|**Financial**  |            644|            639|          0|\n",
      "|**CoreProcesses**  |**HCM**        |            585|            578|          7|\n",
      "|**CRMCommon**      |**CRM**        |            325|            320|          5|\n",
      "|**GeneralLedger**  |**Financial**  |            253|            284|          2|\n",
      "|**Procurement**    |**Procurement**|             46|             46|          0|\n",
      "|**SCMCommon**      |**SCM**        |             45|             45|          0|\n",
      "\n"
     ]
    }
   ],
   "source": [
    "ct = pd.crosstab(df['Click Time Sign'], [df.Server, df.Domain]).transpose().sort_values(by='Negative', ascending=False).head(10);\n",
    "ct.columns = ['*N*<br>Negative', '*N*<br>Positive', '*N*<br>Zero']\n",
    "df2md(ct, ncol2bold=2)"
   ]
  },
  {
   "cell_type": "markdown",
   "metadata": {
    "slideshow": {
     "slide_type": "slide"
    }
   },
   "source": [
    "## Which combos have the highest % percentage of *Big Clicks*? \n",
    "\n",
    "- table shows the top 10 combos logging the highest percentage of clicks greater than or equal to 4,000, 8,000, or 12,000\n",
    "\n",
    "|        Server        |    Domain     |4000+ Clicks|8000+ Clicks|12000+ Clicks|\n",
    "|----------------------|---------------|-----------:|-----------:|------------:|\n",
    "|**ContractManagement**|**CRM**        |       28.57|       14.29|         0.00|\n",
    "|**HelpPortal**        |**Common**     |       16.67|       12.50|        12.50|\n",
    "|**CoreProcesses**     |**HCM**        |       12.80|        8.30|         5.88|\n",
    "|**GeneralLedger**     |**Financial**  |       10.92|        2.46|         2.11|\n",
    "|**Procurement**       |**Procurement**|       10.87|        6.52|         2.17|\n",
    "|**FunctionalSetup**   |**Common**     |        9.34|        3.95|         2.74|\n",
    "|**Payable**           |**Financial**  |        9.14|        3.71|         2.43|\n",
    "|**SCMCommon**         |**SCM**        |        8.89|        6.67|         4.44|\n",
    "|**FinancialCommon**   |**Financial**  |        7.36|        3.76|         2.19|\n",
    "|**CoreSetup**         |**HCM**        |        6.90|        3.29|         2.34|"
   ]
  }
 ],
 "metadata": {
  "celltoolbar": "Slideshow",
  "kernelspec": {
   "display_name": "Python 3",
   "language": "python",
   "name": "python3"
  },
  "language_info": {
   "codemirror_mode": {
    "name": "ipython",
    "version": 3
   },
   "file_extension": ".py",
   "mimetype": "text/x-python",
   "name": "python",
   "nbconvert_exporter": "python",
   "pygments_lexer": "ipython3",
   "version": "3.6.5"
  },
  "toc": {
   "nav_menu": {},
   "number_sections": true,
   "sideBar": true,
   "skip_h1_title": false,
   "title_cell": "Table of Contents",
   "title_sidebar": "Contents",
   "toc_cell": false,
   "toc_position": {},
   "toc_section_display": true,
   "toc_window_display": false
  },
  "varInspector": {
   "cols": {
    "lenName": 16,
    "lenType": 16,
    "lenVar": 40
   },
   "kernels_config": {
    "python": {
     "delete_cmd_postfix": "",
     "delete_cmd_prefix": "del ",
     "library": "var_list.py",
     "varRefreshCmd": "print(var_dic_list())"
    },
    "r": {
     "delete_cmd_postfix": ") ",
     "delete_cmd_prefix": "rm(",
     "library": "var_list.r",
     "varRefreshCmd": "cat(var_dic_list()) "
    }
   },
   "types_to_exclude": [
    "module",
    "function",
    "builtin_function_or_method",
    "instance",
    "_Feature"
   ],
   "window_display": false
  }
 },
 "nbformat": 4,
 "nbformat_minor": 2
}
